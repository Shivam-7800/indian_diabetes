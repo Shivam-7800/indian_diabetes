{
  "cells": [
    {
      "cell_type": "code",
      "execution_count": 1,
      "id": "385b4637",
      "metadata": {
        "_cell_guid": "b1076dfc-b9ad-4769-8c92-a6c4dae69d19",
        "_uuid": "8f2839f25d086af736a60e9eeb907d3b93b6e0e5",
        "execution": {
          "iopub.execute_input": "2024-04-23T20:37:17.149813Z",
          "iopub.status.busy": "2024-04-23T20:37:17.149332Z",
          "iopub.status.idle": "2024-04-23T20:37:20.197010Z",
          "shell.execute_reply": "2024-04-23T20:37:20.195677Z"
        },
        "papermill": {
          "duration": 3.058147,
          "end_time": "2024-04-23T20:37:20.200055",
          "exception": false,
          "start_time": "2024-04-23T20:37:17.141908",
          "status": "completed"
        },
        "tags": [],
        "id": "385b4637"
      },
      "outputs": [],
      "source": [
        "import numpy as np\n",
        "import pandas as pd\n",
        "import seaborn as sns\n",
        "import matplotlib.pyplot as plt\n",
        "from sklearn.preprocessing import StandardScaler\n",
        "from sklearn.model_selection import train_test_split\n",
        "from sklearn.linear_model import LogisticRegression\n",
        "from sklearn.metrics import accuracy_score"
      ]
    },
    {
      "cell_type": "code",
      "execution_count": 3,
      "id": "bdce4c86",
      "metadata": {
        "execution": {
          "iopub.execute_input": "2024-04-23T20:37:20.212724Z",
          "iopub.status.busy": "2024-04-23T20:37:20.212027Z",
          "iopub.status.idle": "2024-04-23T20:37:20.236505Z",
          "shell.execute_reply": "2024-04-23T20:37:20.235251Z"
        },
        "papermill": {
          "duration": 0.034358,
          "end_time": "2024-04-23T20:37:20.239759",
          "exception": false,
          "start_time": "2024-04-23T20:37:20.205401",
          "status": "completed"
        },
        "tags": [],
        "id": "bdce4c86"
      },
      "outputs": [],
      "source": [
        "# Read the dataset\n",
        "df = pd.read_csv(\"/content/drive/MyDrive/diabetes.csv\")"
      ]
    },
    {
      "cell_type": "code",
      "execution_count": 4,
      "id": "a4a91b17",
      "metadata": {
        "execution": {
          "iopub.execute_input": "2024-04-23T20:37:20.252159Z",
          "iopub.status.busy": "2024-04-23T20:37:20.251062Z",
          "iopub.status.idle": "2024-04-23T20:37:20.319017Z",
          "shell.execute_reply": "2024-04-23T20:37:20.317726Z"
        },
        "papermill": {
          "duration": 0.077692,
          "end_time": "2024-04-23T20:37:20.322380",
          "exception": false,
          "start_time": "2024-04-23T20:37:20.244688",
          "status": "completed"
        },
        "tags": [],
        "colab": {
          "base_uri": "https://localhost:8080/"
        },
        "id": "a4a91b17",
        "outputId": "e1cb2efc-c14f-4f82-95f0-2e9f8f076d4b"
      },
      "outputs": [
        {
          "output_type": "stream",
          "name": "stdout",
          "text": [
            "   Pregnancies  Glucose  BloodPressure  SkinThickness  Insulin   BMI  \\\n",
            "0            6      148             72             35        0  33.6   \n",
            "1            1       85             66             29        0  26.6   \n",
            "2            8      183             64              0        0  23.3   \n",
            "3            1       89             66             23       94  28.1   \n",
            "4            0      137             40             35      168  43.1   \n",
            "\n",
            "   DiabetesPedigreeFunction  Age  Outcome  \n",
            "0                     0.627   50        1  \n",
            "1                     0.351   31        0  \n",
            "2                     0.672   32        1  \n",
            "3                     0.167   21        0  \n",
            "4                     2.288   33        1  \n",
            "<class 'pandas.core.frame.DataFrame'>\n",
            "RangeIndex: 768 entries, 0 to 767\n",
            "Data columns (total 9 columns):\n",
            " #   Column                    Non-Null Count  Dtype  \n",
            "---  ------                    --------------  -----  \n",
            " 0   Pregnancies               768 non-null    int64  \n",
            " 1   Glucose                   768 non-null    int64  \n",
            " 2   BloodPressure             768 non-null    int64  \n",
            " 3   SkinThickness             768 non-null    int64  \n",
            " 4   Insulin                   768 non-null    int64  \n",
            " 5   BMI                       768 non-null    float64\n",
            " 6   DiabetesPedigreeFunction  768 non-null    float64\n",
            " 7   Age                       768 non-null    int64  \n",
            " 8   Outcome                   768 non-null    int64  \n",
            "dtypes: float64(2), int64(7)\n",
            "memory usage: 54.1 KB\n",
            "None\n",
            "       Pregnancies     Glucose  BloodPressure  SkinThickness     Insulin  \\\n",
            "count   768.000000  768.000000     768.000000     768.000000  768.000000   \n",
            "mean      3.845052  120.894531      69.105469      20.536458   79.799479   \n",
            "std       3.369578   31.972618      19.355807      15.952218  115.244002   \n",
            "min       0.000000    0.000000       0.000000       0.000000    0.000000   \n",
            "25%       1.000000   99.000000      62.000000       0.000000    0.000000   \n",
            "50%       3.000000  117.000000      72.000000      23.000000   30.500000   \n",
            "75%       6.000000  140.250000      80.000000      32.000000  127.250000   \n",
            "max      17.000000  199.000000     122.000000      99.000000  846.000000   \n",
            "\n",
            "              BMI  DiabetesPedigreeFunction         Age     Outcome  \n",
            "count  768.000000                768.000000  768.000000  768.000000  \n",
            "mean    31.992578                  0.471876   33.240885    0.348958  \n",
            "std      7.884160                  0.331329   11.760232    0.476951  \n",
            "min      0.000000                  0.078000   21.000000    0.000000  \n",
            "25%     27.300000                  0.243750   24.000000    0.000000  \n",
            "50%     32.000000                  0.372500   29.000000    0.000000  \n",
            "75%     36.600000                  0.626250   41.000000    1.000000  \n",
            "max     67.100000                  2.420000   81.000000    1.000000  \n",
            "Pregnancies                 0\n",
            "Glucose                     0\n",
            "BloodPressure               0\n",
            "SkinThickness               0\n",
            "Insulin                     0\n",
            "BMI                         0\n",
            "DiabetesPedigreeFunction    0\n",
            "Age                         0\n",
            "Outcome                     0\n",
            "dtype: int64\n"
          ]
        }
      ],
      "source": [
        "# EDA\n",
        "print(df.head())\n",
        "print(df.info())\n",
        "print(df.describe())\n",
        "print(df.isnull().sum())"
      ]
    },
    {
      "cell_type": "code",
      "execution_count": 16,
      "id": "8dcf785d",
      "metadata": {
        "execution": {
          "iopub.execute_input": "2024-04-23T20:37:20.335046Z",
          "iopub.status.busy": "2024-04-23T20:37:20.334620Z",
          "iopub.status.idle": "2024-04-23T20:37:20.679999Z",
          "shell.execute_reply": "2024-04-23T20:37:20.678710Z"
        },
        "papermill": {
          "duration": 0.355406,
          "end_time": "2024-04-23T20:37:20.682915",
          "exception": false,
          "start_time": "2024-04-23T20:37:20.327509",
          "status": "completed"
        },
        "tags": [],
        "colab": {
          "base_uri": "https://localhost:8080/",
          "height": 311
        },
        "id": "8dcf785d",
        "outputId": "cd1867ab-8429-46ec-8215-3c6782bb284b"
      },
      "outputs": [
        {
          "output_type": "display_data",
          "data": {
            "text/plain": [
              "<Figure size 400x300 with 1 Axes>"
            ],
            "image/png": "[encoded data removed]"
          },
          "metadata": {}
        }
      ],
      "source": [
        "# Data Visualization\n",
        "plt.figure(figsize=(4,3))\n",
        "plt.xlabel('Age', fontsize=10)\n",
        "plt.ylabel('Count', fontsize=10)\n",
        "df['Age'].hist(edgecolor=\"black\")\n",
        "plt.show()"
      ]
    },
    {
      "cell_type": "code",
      "execution_count": 6,
      "id": "8fa55414",
      "metadata": {
        "execution": {
          "iopub.execute_input": "2024-04-23T20:37:20.696550Z",
          "iopub.status.busy": "2024-04-23T20:37:20.696139Z",
          "iopub.status.idle": "2024-04-23T20:37:20.710734Z",
          "shell.execute_reply": "2024-04-23T20:37:20.709629Z"
        },
        "papermill": {
          "duration": 0.024626,
          "end_time": "2024-04-23T20:37:20.713441",
          "exception": false,
          "start_time": "2024-04-23T20:37:20.688815",
          "status": "completed"
        },
        "tags": [],
        "id": "8fa55414"
      },
      "outputs": [],
      "source": [
        "# Preprocessing\n",
        "df[['Pregnancies', 'Glucose', 'BloodPressure', 'SkinThickness', 'Insulin',\n",
        "     'BMI', 'DiabetesPedigreeFunction', 'Age']] = df[['Pregnancies', 'Glucose', 'BloodPressure', 'SkinThickness', 'Insulin',\n",
        "                                                      'BMI', 'DiabetesPedigreeFunction', 'Age']].replace(0, np.NaN)\n"
      ]
    },
    {
      "cell_type": "code",
      "execution_count": 7,
      "id": "5649530b",
      "metadata": {
        "execution": {
          "iopub.execute_input": "2024-04-23T20:37:20.726942Z",
          "iopub.status.busy": "2024-04-23T20:37:20.725877Z",
          "iopub.status.idle": "2024-04-23T20:37:20.806526Z",
          "shell.execute_reply": "2024-04-23T20:37:20.805394Z"
        },
        "papermill": {
          "duration": 0.08996,
          "end_time": "2024-04-23T20:37:20.809068",
          "exception": false,
          "start_time": "2024-04-23T20:37:20.719108",
          "status": "completed"
        },
        "tags": [],
        "colab": {
          "base_uri": "https://localhost:8080/"
        },
        "id": "5649530b",
        "outputId": "f90b4871-f525-4736-9cb7-c2855631f7a0"
      },
      "outputs": [
        {
          "output_type": "stream",
          "name": "stdout",
          "text": [
            "Pregnancies                 0\n",
            "Glucose                     0\n",
            "BloodPressure               0\n",
            "SkinThickness               0\n",
            "Insulin                     0\n",
            "BMI                         0\n",
            "DiabetesPedigreeFunction    0\n",
            "Age                         0\n",
            "Outcome                     0\n",
            "dtype: int64\n"
          ]
        }
      ],
      "source": [
        "# Handle missing values\n",
        "def median_target(var):\n",
        "    temp = df[df[var].notnull()]\n",
        "    temp = temp[[var, 'Outcome']].groupby(['Outcome'])[[var]].median().reset_index()\n",
        "    return temp\n",
        "\n",
        "columns = df.columns\n",
        "columns = columns.drop(\"Outcome\")\n",
        "for i in columns:\n",
        "    df.loc[(df['Outcome'] == 0) & (df[i].isnull()), i] = median_target(i)[i][0]\n",
        "    df.loc[(df['Outcome'] == 1) & (df[i].isnull()), i] = median_target(i)[i][1]\n",
        "\n",
        "print(df.isnull().sum())"
      ]
    },
    {
      "cell_type": "code",
      "execution_count": 8,
      "id": "c0f8a693",
      "metadata": {
        "execution": {
          "iopub.execute_input": "2024-04-23T20:37:20.822152Z",
          "iopub.status.busy": "2024-04-23T20:37:20.821722Z",
          "iopub.status.idle": "2024-04-23T20:37:20.828170Z",
          "shell.execute_reply": "2024-04-23T20:37:20.827137Z"
        },
        "papermill": {
          "duration": 0.015962,
          "end_time": "2024-04-23T20:37:20.830616",
          "exception": false,
          "start_time": "2024-04-23T20:37:20.814654",
          "status": "completed"
        },
        "tags": [],
        "id": "c0f8a693"
      },
      "outputs": [],
      "source": [
        "# Split data into features and target\n",
        "X = df.drop('Outcome', axis=1)\n",
        "y = df['Outcome']\n"
      ]
    },
    {
      "cell_type": "code",
      "execution_count": 9,
      "id": "1ca14741",
      "metadata": {
        "execution": {
          "iopub.execute_input": "2024-04-23T20:37:20.844386Z",
          "iopub.status.busy": "2024-04-23T20:37:20.843931Z",
          "iopub.status.idle": "2024-04-23T20:37:20.853845Z",
          "shell.execute_reply": "2024-04-23T20:37:20.852673Z"
        },
        "papermill": {
          "duration": 0.019493,
          "end_time": "2024-04-23T20:37:20.856129",
          "exception": false,
          "start_time": "2024-04-23T20:37:20.836636",
          "status": "completed"
        },
        "tags": [],
        "id": "1ca14741"
      },
      "outputs": [],
      "source": [
        "# Split data into train and test sets\n",
        "X_train, X_test, y_train, y_test = train_test_split(X, y, test_size=0.2, random_state=0)\n"
      ]
    },
    {
      "cell_type": "code",
      "execution_count": 10,
      "id": "afb4f309",
      "metadata": {
        "execution": {
          "iopub.execute_input": "2024-04-23T20:37:20.870737Z",
          "iopub.status.busy": "2024-04-23T20:37:20.869489Z",
          "iopub.status.idle": "2024-04-23T20:37:20.883678Z",
          "shell.execute_reply": "2024-04-23T20:37:20.882549Z"
        },
        "papermill": {
          "duration": 0.024351,
          "end_time": "2024-04-23T20:37:20.886681",
          "exception": false,
          "start_time": "2024-04-23T20:37:20.862330",
          "status": "completed"
        },
        "tags": [],
        "id": "afb4f309"
      },
      "outputs": [],
      "source": [
        "# Scale the data\n",
        "scaler = StandardScaler()\n",
        "X_train = scaler.fit_transform(X_train)\n",
        "X_test = scaler.transform(X_test)"
      ]
    },
    {
      "cell_type": "code",
      "execution_count": 11,
      "id": "b65e860c",
      "metadata": {
        "execution": {
          "iopub.execute_input": "2024-04-23T20:37:20.900828Z",
          "iopub.status.busy": "2024-04-23T20:37:20.900372Z",
          "iopub.status.idle": "2024-04-23T20:37:20.922732Z",
          "shell.execute_reply": "2024-04-23T20:37:20.921782Z"
        },
        "papermill": {
          "duration": 0.032475,
          "end_time": "2024-04-23T20:37:20.925076",
          "exception": false,
          "start_time": "2024-04-23T20:37:20.892601",
          "status": "completed"
        },
        "tags": [],
        "colab": {
          "base_uri": "https://localhost:8080/",
          "height": 74
        },
        "id": "b65e860c",
        "outputId": "a0935bf3-3da7-423c-af83-25ee83a0d492"
      },
      "outputs": [
        {
          "output_type": "execute_result",
          "data": {
            "text/plain": [
              "LogisticRegression()"
            ],
            "text/html": [
              "<style>#sk-container-id-1 {color: black;background-color: white;}#sk-container-id-1 pre{padding: 0;}#sk-container-id-1 div.sk-toggleable {background-color: white;}#sk-container-id-1 label.sk-toggleable__label {cursor: pointer;display: block;width: 100%;margin-bottom: 0;padding: 0.3em;box-sizing: border-box;text-align: center;}#sk-container-id-1 label.sk-toggleable__label-arrow:before {content: \"▸\";float: left;margin-right: 0.25em;color: #696969;}#sk-container-id-1 label.sk-toggleable__label-arrow:hover:before {color: black;}#sk-container-id-1 div.sk-estimator:hover label.sk-toggleable__label-arrow:before {color: black;}#sk-container-id-1 div.sk-toggleable__content {max-height: 0;max-width: 0;overflow: hidden;text-align: left;background-color: #f0f8ff;}#sk-container-id-1 div.sk-toggleable__content pre {margin: 0.2em;color: black;border-radius: 0.25em;background-color: #f0f8ff;}#sk-container-id-1 input.sk-toggleable__control:checked~div.sk-toggleable__content {max-height: 200px;max-width: 100%;overflow: auto;}#sk-container-id-1 input.sk-toggleable__control:checked~label.sk-toggleable__label-arrow:before {content: \"▾\";}#sk-container-id-1 div.sk-estimator input.sk-toggleable__control:checked~label.sk-toggleable__label {background-color: #d4ebff;}#sk-container-id-1 div.sk-label input.sk-toggleable__control:checked~label.sk-toggleable__label {background-color: #d4ebff;}#sk-container-id-1 input.sk-hidden--visually {border: 0;clip: rect(1px 1px 1px 1px);clip: rect(1px, 1px, 1px, 1px);height: 1px;margin: -1px;overflow: hidden;padding: 0;position: absolute;width: 1px;}#sk-container-id-1 div.sk-estimator {font-family: monospace;background-color: #f0f8ff;border: 1px dotted black;border-radius: 0.25em;box-sizing: border-box;margin-bottom: 0.5em;}#sk-container-id-1 div.sk-estimator:hover {background-color: #d4ebff;}#sk-container-id-1 div.sk-parallel-item::after {content: \"\";width: 100%;border-bottom: 1px solid gray;flex-grow: 1;}#sk-container-id-1 div.sk-label:hover label.sk-toggleable__label {background-color: #d4ebff;}#sk-container-id-1 div.sk-serial::before {content: \"\";position: absolute;border-left: 1px solid gray;box-sizing: border-box;top: 0;bottom: 0;left: 50%;z-index: 0;}#sk-container-id-1 div.sk-serial {display: flex;flex-direction: column;align-items: center;background-color: white;padding-right: 0.2em;padding-left: 0.2em;position: relative;}#sk-container-id-1 div.sk-item {position: relative;z-index: 1;}#sk-container-id-1 div.sk-parallel {display: flex;align-items: stretch;justify-content: center;background-color: white;position: relative;}#sk-container-id-1 div.sk-item::before, #sk-container-id-1 div.sk-parallel-item::before {content: \"\";position: absolute;border-left: 1px solid gray;box-sizing: border-box;top: 0;bottom: 0;left: 50%;z-index: -1;}#sk-container-id-1 div.sk-parallel-item {display: flex;flex-direction: column;z-index: 1;position: relative;background-color: white;}#sk-container-id-1 div.sk-parallel-item:first-child::after {align-self: flex-end;width: 50%;}#sk-container-id-1 div.sk-parallel-item:last-child::after {align-self: flex-start;width: 50%;}#sk-container-id-1 div.sk-parallel-item:only-child::after {width: 0;}#sk-container-id-1 div.sk-dashed-wrapped {border: 1px dashed gray;margin: 0 0.4em 0.5em 0.4em;box-sizing: border-box;padding-bottom: 0.4em;background-color: white;}#sk-container-id-1 div.sk-label label {font-family: monospace;font-weight: bold;display: inline-block;line-height: 1.2em;}#sk-container-id-1 div.sk-label-container {text-align: center;}#sk-container-id-1 div.sk-container {/* jupyter's `normalize.less` sets `[hidden] { display: none; }` but bootstrap.min.css set `[hidden] { display: none !important; }` so we also need the `!important` here to be able to override the default hidden behavior on the sphinx rendered scikit-learn.org. See: https://github.com/scikit-learn/scikit-learn/issues/21755 */display: inline-block !important;position: relative;}#sk-container-id-1 div.sk-text-repr-fallback {display: none;}</style><div id=\"sk-container-id-1\" class=\"sk-top-container\"><div class=\"sk-text-repr-fallback\"><pre>LogisticRegression()</pre><b>In a Jupyter environment, please rerun this cell to show the HTML representation or trust the notebook. <br />On GitHub, the HTML representation is unable to render, please try loading this page with nbviewer.org.</b></div><div class=\"sk-container\" hidden><div class=\"sk-item\"><div class=\"sk-estimator sk-toggleable\"><input class=\"sk-toggleable__control sk-hidden--visually\" id=\"sk-estimator-id-1\" type=\"checkbox\" checked><label for=\"sk-estimator-id-1\" class=\"sk-toggleable__label sk-toggleable__label-arrow\">LogisticRegression</label><div class=\"sk-toggleable__content\"><pre>LogisticRegression()</pre></div></div></div></div></div>"
            ]
          },
          "metadata": {},
          "execution_count": 11
        }
      ],
      "source": [
        "# Train the model\n",
        "model = LogisticRegression()\n",
        "model.fit(X_train, y_train)"
      ]
    },
    {
      "cell_type": "code",
      "execution_count": 12,
      "id": "8df7b972",
      "metadata": {
        "execution": {
          "iopub.execute_input": "2024-04-23T20:37:20.939288Z",
          "iopub.status.busy": "2024-04-23T20:37:20.938776Z",
          "iopub.status.idle": "2024-04-23T20:37:20.948586Z",
          "shell.execute_reply": "2024-04-23T20:37:20.947224Z"
        },
        "papermill": {
          "duration": 0.01977,
          "end_time": "2024-04-23T20:37:20.950888",
          "exception": false,
          "start_time": "2024-04-23T20:37:20.931118",
          "status": "completed"
        },
        "tags": [],
        "colab": {
          "base_uri": "https://localhost:8080/"
        },
        "id": "8df7b972",
        "outputId": "b851bd2f-6fee-4a0e-d564-f87b383cfbbd"
      },
      "outputs": [
        {
          "output_type": "stream",
          "name": "stdout",
          "text": [
            "Accuracy on training set: 0.7785016286644951\n"
          ]
        }
      ],
      "source": [
        "# Make one prediction\n",
        "print(\"Accuracy on training set:\", accuracy_score(y_train, model.predict(X_train)))"
      ]
    },
    {
      "cell_type": "code",
      "execution_count": 13,
      "id": "d7f71784",
      "metadata": {
        "execution": {
          "iopub.execute_input": "2024-04-23T20:37:20.965628Z",
          "iopub.status.busy": "2024-04-23T20:37:20.964938Z",
          "iopub.status.idle": "2024-04-23T20:37:20.974725Z",
          "shell.execute_reply": "2024-04-23T20:37:20.972760Z"
        },
        "papermill": {
          "duration": 0.020415,
          "end_time": "2024-04-23T20:37:20.977447",
          "exception": false,
          "start_time": "2024-04-23T20:37:20.957032",
          "status": "completed"
        },
        "tags": [],
        "colab": {
          "base_uri": "https://localhost:8080/"
        },
        "id": "d7f71784",
        "outputId": "3ebd5398-613a-455f-bf7b-0215d9ceacf5"
      },
      "outputs": [
        {
          "output_type": "stream",
          "name": "stdout",
          "text": [
            "Accuracy on test set: 0.8051948051948052\n"
          ]
        }
      ],
      "source": [
        "# Evaluate the model\n",
        "y_pred = model.predict(X_test)\n",
        "print(\"Accuracy on test set:\", accuracy_score(y_test, y_pred))"
      ]
    }
  ],
  "metadata": {
    "kaggle": {
      "accelerator": "none",
      "dataSources": [
        {
          "datasetId": 228,
          "sourceId": 482,
          "sourceType": "datasetVersion"
        }
      ],
      "dockerImageVersionId": 30698,
      "isGpuEnabled": false,
      "isInternetEnabled": true,
      "language": "python",
      "sourceType": "notebook"
    },
    "kernelspec": {
      "display_name": "Python 3",
      "language": "python",
      "name": "python3"
    },
    "language_info": {
      "codemirror_mode": {
        "name": "ipython",
        "version": 3
      },
      "file_extension": ".py",
      "mimetype": "text/x-python",
      "name": "python",
      "nbconvert_exporter": "python",
      "pygments_lexer": "ipython3",
      "version": "3.10.13"
    },
    "papermill": {
      "default_parameters": {},
      "duration": 7.959691,
      "end_time": "2024-04-23T20:37:21.907623",
      "environment_variables": {},
      "exception": null,
      "input_path": "__notebook__.ipynb",
      "output_path": "__notebook__.ipynb",
      "parameters": {},
      "start_time": "2024-04-23T20:37:13.947932",
      "version": "2.5.0"
    },
    "colab": {
      "provenance": []
    }
  },
  "nbformat": 4,
  "nbformat_minor": 5
}